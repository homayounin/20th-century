{
 "cells": [
  {
   "cell_type": "markdown",
   "id": "704e99f9-9c09-4eed-9cb6-5355291e9568",
   "metadata": {},
   "source": [
    "# Step 1: Install Necessary Libraries"
   ]
  },
  {
   "cell_type": "code",
   "execution_count": 1,
   "id": "ed393e8d-bef2-4441-b3e2-d8450f4aab78",
   "metadata": {},
   "outputs": [
    {
     "name": "stdout",
     "output_type": "stream",
     "text": [
      "Requirement already satisfied: selenium in c:\\users\\asus\\anaconda3\\new folder\\lib\\site-packages (from -r requirements.txt (line 1)) (4.25.0)\n",
      "Requirement already satisfied: requests in c:\\users\\asus\\anaconda3\\new folder\\lib\\site-packages (from -r requirements.txt (line 2)) (2.32.2)\n",
      "Requirement already satisfied: bs4 in c:\\users\\asus\\anaconda3\\new folder\\lib\\site-packages (from -r requirements.txt (line 3)) (0.0.2)\n",
      "Requirement already satisfied: pandas in c:\\users\\asus\\anaconda3\\new folder\\lib\\site-packages (from -r requirements.txt (line 4)) (2.2.2)\n",
      "Requirement already satisfied: seaborn in c:\\users\\asus\\anaconda3\\new folder\\lib\\site-packages (from -r requirements.txt (line 5)) (0.13.2)\n",
      "Requirement already satisfied: matplotlib in c:\\users\\asus\\anaconda3\\new folder\\lib\\site-packages (from -r requirements.txt (line 6)) (3.8.4)\n",
      "Requirement already satisfied: nltk in c:\\users\\asus\\anaconda3\\new folder\\lib\\site-packages (from -r requirements.txt (line 7)) (3.8.1)\n",
      "Requirement already satisfied: textblob in c:\\users\\asus\\anaconda3\\new folder\\lib\\site-packages (from -r requirements.txt (line 8)) (0.18.0.post0)\n",
      "Collecting spacy (from -r requirements.txt (line 9))\n",
      "  Using cached spacy-3.8.2-cp312-cp312-win_amd64.whl.metadata (27 kB)\n",
      "Requirement already satisfied: networkx in c:\\users\\asus\\anaconda3\\new folder\\lib\\site-packages (from -r requirements.txt (line 10)) (3.2.1)\n",
      "Collecting pyvis (from -r requirements.txt (line 11))\n",
      "  Using cached pyvis-0.3.2-py3-none-any.whl.metadata (1.7 kB)\n",
      "Collecting python-igraph (from -r requirements.txt (line 12))\n",
      "  Using cached python_igraph-0.11.8-py3-none-any.whl.metadata (2.8 kB)\n",
      "Collecting leidenalg (from -r requirements.txt (line 13))\n",
      "  Using cached leidenalg-0.10.2-cp38-abi3-win_amd64.whl.metadata (10 kB)\n",
      "Requirement already satisfied: urllib3<3,>=1.26 in c:\\users\\asus\\anaconda3\\new folder\\lib\\site-packages (from urllib3[socks]<3,>=1.26->selenium->-r requirements.txt (line 1)) (2.2.2)\n",
      "Requirement already satisfied: trio~=0.17 in c:\\users\\asus\\anaconda3\\new folder\\lib\\site-packages (from selenium->-r requirements.txt (line 1)) (0.27.0)\n",
      "Requirement already satisfied: trio-websocket~=0.9 in c:\\users\\asus\\anaconda3\\new folder\\lib\\site-packages (from selenium->-r requirements.txt (line 1)) (0.11.1)\n",
      "Requirement already satisfied: certifi>=2021.10.8 in c:\\users\\asus\\anaconda3\\new folder\\lib\\site-packages (from selenium->-r requirements.txt (line 1)) (2024.8.30)\n",
      "Requirement already satisfied: typing_extensions~=4.9 in c:\\users\\asus\\anaconda3\\new folder\\lib\\site-packages (from selenium->-r requirements.txt (line 1)) (4.11.0)\n",
      "Requirement already satisfied: websocket-client~=1.8 in c:\\users\\asus\\anaconda3\\new folder\\lib\\site-packages (from selenium->-r requirements.txt (line 1)) (1.8.0)\n",
      "Requirement already satisfied: charset-normalizer<4,>=2 in c:\\users\\asus\\anaconda3\\new folder\\lib\\site-packages (from requests->-r requirements.txt (line 2)) (2.0.4)\n",
      "Requirement already satisfied: idna<4,>=2.5 in c:\\users\\asus\\anaconda3\\new folder\\lib\\site-packages (from requests->-r requirements.txt (line 2)) (3.7)\n",
      "Requirement already satisfied: beautifulsoup4 in c:\\users\\asus\\anaconda3\\new folder\\lib\\site-packages (from bs4->-r requirements.txt (line 3)) (4.12.3)\n",
      "Requirement already satisfied: numpy>=1.26.0 in c:\\users\\asus\\anaconda3\\new folder\\lib\\site-packages (from pandas->-r requirements.txt (line 4)) (1.26.4)\n",
      "Requirement already satisfied: python-dateutil>=2.8.2 in c:\\users\\asus\\anaconda3\\new folder\\lib\\site-packages (from pandas->-r requirements.txt (line 4)) (2.9.0.post0)\n",
      "Requirement already satisfied: pytz>=2020.1 in c:\\users\\asus\\anaconda3\\new folder\\lib\\site-packages (from pandas->-r requirements.txt (line 4)) (2024.1)\n",
      "Requirement already satisfied: tzdata>=2022.7 in c:\\users\\asus\\anaconda3\\new folder\\lib\\site-packages (from pandas->-r requirements.txt (line 4)) (2023.3)\n",
      "Requirement already satisfied: contourpy>=1.0.1 in c:\\users\\asus\\anaconda3\\new folder\\lib\\site-packages (from matplotlib->-r requirements.txt (line 6)) (1.2.0)\n",
      "Requirement already satisfied: cycler>=0.10 in c:\\users\\asus\\anaconda3\\new folder\\lib\\site-packages (from matplotlib->-r requirements.txt (line 6)) (0.11.0)\n",
      "Requirement already satisfied: fonttools>=4.22.0 in c:\\users\\asus\\anaconda3\\new folder\\lib\\site-packages (from matplotlib->-r requirements.txt (line 6)) (4.51.0)\n",
      "Requirement already satisfied: kiwisolver>=1.3.1 in c:\\users\\asus\\anaconda3\\new folder\\lib\\site-packages (from matplotlib->-r requirements.txt (line 6)) (1.4.4)\n",
      "Requirement already satisfied: packaging>=20.0 in c:\\users\\asus\\anaconda3\\new folder\\lib\\site-packages (from matplotlib->-r requirements.txt (line 6)) (23.2)\n",
      "Requirement already satisfied: pillow>=8 in c:\\users\\asus\\anaconda3\\new folder\\lib\\site-packages (from matplotlib->-r requirements.txt (line 6)) (10.3.0)\n",
      "Requirement already satisfied: pyparsing>=2.3.1 in c:\\users\\asus\\anaconda3\\new folder\\lib\\site-packages (from matplotlib->-r requirements.txt (line 6)) (3.0.9)\n",
      "Requirement already satisfied: click in c:\\users\\asus\\anaconda3\\new folder\\lib\\site-packages (from nltk->-r requirements.txt (line 7)) (8.1.7)\n",
      "Requirement already satisfied: joblib in c:\\users\\asus\\anaconda3\\new folder\\lib\\site-packages (from nltk->-r requirements.txt (line 7)) (1.4.2)\n",
      "Requirement already satisfied: regex>=2021.8.3 in c:\\users\\asus\\anaconda3\\new folder\\lib\\site-packages (from nltk->-r requirements.txt (line 7)) (2023.10.3)\n",
      "Requirement already satisfied: tqdm in c:\\users\\asus\\anaconda3\\new folder\\lib\\site-packages (from nltk->-r requirements.txt (line 7)) (4.66.4)\n",
      "Collecting spacy-legacy<3.1.0,>=3.0.11 (from spacy->-r requirements.txt (line 9))\n",
      "  Using cached spacy_legacy-3.0.12-py2.py3-none-any.whl.metadata (2.8 kB)\n",
      "Collecting spacy-loggers<2.0.0,>=1.0.0 (from spacy->-r requirements.txt (line 9))\n",
      "  Using cached spacy_loggers-1.0.5-py3-none-any.whl.metadata (23 kB)\n",
      "Collecting murmurhash<1.1.0,>=0.28.0 (from spacy->-r requirements.txt (line 9))\n",
      "  Using cached murmurhash-1.0.10-cp312-cp312-win_amd64.whl.metadata (2.0 kB)\n",
      "Collecting cymem<2.1.0,>=2.0.2 (from spacy->-r requirements.txt (line 9))\n",
      "  Using cached cymem-2.0.8-cp312-cp312-win_amd64.whl.metadata (8.6 kB)\n",
      "Collecting preshed<3.1.0,>=3.0.2 (from spacy->-r requirements.txt (line 9))\n",
      "  Using cached preshed-3.0.9-cp312-cp312-win_amd64.whl.metadata (2.2 kB)\n",
      "Collecting thinc<8.4.0,>=8.3.0 (from spacy->-r requirements.txt (line 9))\n",
      "  Using cached thinc-8.3.2-cp312-cp312-win_amd64.whl.metadata (15 kB)\n",
      "Collecting wasabi<1.2.0,>=0.9.1 (from spacy->-r requirements.txt (line 9))\n",
      "  Using cached wasabi-1.1.3-py3-none-any.whl.metadata (28 kB)\n",
      "Collecting srsly<3.0.0,>=2.4.3 (from spacy->-r requirements.txt (line 9))\n",
      "  Using cached srsly-2.4.8-cp312-cp312-win_amd64.whl.metadata (20 kB)\n",
      "Collecting catalogue<2.1.0,>=2.0.6 (from spacy->-r requirements.txt (line 9))\n",
      "  Using cached catalogue-2.0.10-py3-none-any.whl.metadata (14 kB)\n",
      "Collecting weasel<0.5.0,>=0.1.0 (from spacy->-r requirements.txt (line 9))\n",
      "  Using cached weasel-0.4.1-py3-none-any.whl.metadata (4.6 kB)\n",
      "Collecting typer<1.0.0,>=0.3.0 (from spacy->-r requirements.txt (line 9))\n",
      "  Using cached typer-0.12.5-py3-none-any.whl.metadata (15 kB)\n",
      "Requirement already satisfied: pydantic!=1.8,!=1.8.1,<3.0.0,>=1.7.4 in c:\\users\\asus\\anaconda3\\new folder\\lib\\site-packages (from spacy->-r requirements.txt (line 9)) (2.5.3)\n",
      "Requirement already satisfied: jinja2 in c:\\users\\asus\\anaconda3\\new folder\\lib\\site-packages (from spacy->-r requirements.txt (line 9)) (3.1.4)\n",
      "Requirement already satisfied: setuptools in c:\\users\\asus\\anaconda3\\new folder\\lib\\site-packages (from spacy->-r requirements.txt (line 9)) (69.5.1)\n",
      "Collecting langcodes<4.0.0,>=3.2.0 (from spacy->-r requirements.txt (line 9))\n",
      "  Using cached langcodes-3.4.1-py3-none-any.whl.metadata (29 kB)\n",
      "Requirement already satisfied: ipython>=5.3.0 in c:\\users\\asus\\anaconda3\\new folder\\lib\\site-packages (from pyvis->-r requirements.txt (line 11)) (8.25.0)\n",
      "Collecting jsonpickle>=1.4.1 (from pyvis->-r requirements.txt (line 11))\n",
      "  Downloading jsonpickle-3.4.2-py3-none-any.whl.metadata (8.1 kB)\n",
      "Collecting igraph==0.11.8 (from python-igraph->-r requirements.txt (line 12))\n",
      "  Using cached igraph-0.11.8-cp39-abi3-win_amd64.whl.metadata (3.9 kB)\n",
      "Collecting texttable>=1.6.2 (from igraph==0.11.8->python-igraph->-r requirements.txt (line 12))\n",
      "  Using cached texttable-1.7.0-py2.py3-none-any.whl.metadata (9.8 kB)\n",
      "Requirement already satisfied: decorator in c:\\users\\asus\\anaconda3\\new folder\\lib\\site-packages (from ipython>=5.3.0->pyvis->-r requirements.txt (line 11)) (5.1.1)\n",
      "Requirement already satisfied: jedi>=0.16 in c:\\users\\asus\\anaconda3\\new folder\\lib\\site-packages (from ipython>=5.3.0->pyvis->-r requirements.txt (line 11)) (0.18.1)\n",
      "Requirement already satisfied: matplotlib-inline in c:\\users\\asus\\anaconda3\\new folder\\lib\\site-packages (from ipython>=5.3.0->pyvis->-r requirements.txt (line 11)) (0.1.6)\n",
      "Requirement already satisfied: prompt-toolkit<3.1.0,>=3.0.41 in c:\\users\\asus\\anaconda3\\new folder\\lib\\site-packages (from ipython>=5.3.0->pyvis->-r requirements.txt (line 11)) (3.0.43)\n",
      "Requirement already satisfied: pygments>=2.4.0 in c:\\users\\asus\\anaconda3\\new folder\\lib\\site-packages (from ipython>=5.3.0->pyvis->-r requirements.txt (line 11)) (2.15.1)\n",
      "Requirement already satisfied: stack-data in c:\\users\\asus\\anaconda3\\new folder\\lib\\site-packages (from ipython>=5.3.0->pyvis->-r requirements.txt (line 11)) (0.2.0)\n",
      "Requirement already satisfied: traitlets>=5.13.0 in c:\\users\\asus\\anaconda3\\new folder\\lib\\site-packages (from ipython>=5.3.0->pyvis->-r requirements.txt (line 11)) (5.14.3)\n",
      "Requirement already satisfied: colorama in c:\\users\\asus\\anaconda3\\new folder\\lib\\site-packages (from ipython>=5.3.0->pyvis->-r requirements.txt (line 11)) (0.4.6)\n",
      "Requirement already satisfied: MarkupSafe>=2.0 in c:\\users\\asus\\anaconda3\\new folder\\lib\\site-packages (from jinja2->spacy->-r requirements.txt (line 9)) (2.1.3)\n",
      "Collecting language-data>=1.2 (from langcodes<4.0.0,>=3.2.0->spacy->-r requirements.txt (line 9))\n",
      "  Using cached language_data-1.2.0-py3-none-any.whl.metadata (4.3 kB)\n",
      "Requirement already satisfied: annotated-types>=0.4.0 in c:\\users\\asus\\anaconda3\\new folder\\lib\\site-packages (from pydantic!=1.8,!=1.8.1,<3.0.0,>=1.7.4->spacy->-r requirements.txt (line 9)) (0.6.0)\n",
      "Requirement already satisfied: pydantic-core==2.14.6 in c:\\users\\asus\\anaconda3\\new folder\\lib\\site-packages (from pydantic!=1.8,!=1.8.1,<3.0.0,>=1.7.4->spacy->-r requirements.txt (line 9)) (2.14.6)\n",
      "Requirement already satisfied: six>=1.5 in c:\\users\\asus\\anaconda3\\new folder\\lib\\site-packages (from python-dateutil>=2.8.2->pandas->-r requirements.txt (line 4)) (1.16.0)\n",
      "Collecting blis<1.1.0,>=1.0.0 (from thinc<8.4.0,>=8.3.0->spacy->-r requirements.txt (line 9))\n",
      "  Using cached blis-1.0.1-cp312-cp312-win_amd64.whl.metadata (7.8 kB)\n",
      "Collecting confection<1.0.0,>=0.0.1 (from thinc<8.4.0,>=8.3.0->spacy->-r requirements.txt (line 9))\n",
      "  Using cached confection-0.1.5-py3-none-any.whl.metadata (19 kB)\n",
      "INFO: pip is looking at multiple versions of thinc to determine which version is compatible with other requirements. This could take a while.\n",
      "Collecting thinc<8.4.0,>=8.3.0 (from spacy->-r requirements.txt (line 9))\n",
      "  Downloading thinc-8.3.1-cp312-cp312-win_amd64.whl.metadata (15 kB)\n",
      "  Downloading thinc-8.3.0-cp312-cp312-win_amd64.whl.metadata (15 kB)\n",
      "Collecting contourpy>=1.0.1 (from matplotlib->-r requirements.txt (line 6))\n",
      "  Using cached contourpy-1.3.0-cp312-cp312-win_amd64.whl.metadata (5.4 kB)\n",
      "Collecting numpy>=1.26.0 (from pandas->-r requirements.txt (line 4))\n",
      "  Using cached numpy-2.0.2-cp312-cp312-win_amd64.whl.metadata (59 kB)\n",
      "Requirement already satisfied: attrs>=23.2.0 in c:\\users\\asus\\anaconda3\\new folder\\lib\\site-packages (from trio~=0.17->selenium->-r requirements.txt (line 1)) (24.2.0)\n",
      "Requirement already satisfied: sortedcontainers in c:\\users\\asus\\anaconda3\\new folder\\lib\\site-packages (from trio~=0.17->selenium->-r requirements.txt (line 1)) (2.4.0)\n",
      "Requirement already satisfied: outcome in c:\\users\\asus\\anaconda3\\new folder\\lib\\site-packages (from trio~=0.17->selenium->-r requirements.txt (line 1)) (1.3.0.post0)\n",
      "Requirement already satisfied: sniffio>=1.3.0 in c:\\users\\asus\\anaconda3\\new folder\\lib\\site-packages (from trio~=0.17->selenium->-r requirements.txt (line 1)) (1.3.0)\n",
      "Requirement already satisfied: cffi>=1.14 in c:\\users\\asus\\anaconda3\\new folder\\lib\\site-packages (from trio~=0.17->selenium->-r requirements.txt (line 1)) (1.16.0)\n",
      "Requirement already satisfied: wsproto>=0.14 in c:\\users\\asus\\anaconda3\\new folder\\lib\\site-packages (from trio-websocket~=0.9->selenium->-r requirements.txt (line 1)) (1.2.0)\n",
      "Collecting shellingham>=1.3.0 (from typer<1.0.0,>=0.3.0->spacy->-r requirements.txt (line 9))\n",
      "  Using cached shellingham-1.5.4-py2.py3-none-any.whl.metadata (3.5 kB)\n",
      "Requirement already satisfied: rich>=10.11.0 in c:\\users\\asus\\anaconda3\\new folder\\lib\\site-packages (from typer<1.0.0,>=0.3.0->spacy->-r requirements.txt (line 9)) (13.3.5)\n",
      "Requirement already satisfied: pysocks!=1.5.7,<2.0,>=1.5.6 in c:\\users\\asus\\anaconda3\\new folder\\lib\\site-packages (from urllib3[socks]<3,>=1.26->selenium->-r requirements.txt (line 1)) (1.7.1)\n",
      "Collecting cloudpathlib<1.0.0,>=0.7.0 (from weasel<0.5.0,>=0.1.0->spacy->-r requirements.txt (line 9))\n",
      "  Using cached cloudpathlib-0.20.0-py3-none-any.whl.metadata (14 kB)\n",
      "Requirement already satisfied: smart-open<8.0.0,>=5.2.1 in c:\\users\\asus\\anaconda3\\new folder\\lib\\site-packages (from weasel<0.5.0,>=0.1.0->spacy->-r requirements.txt (line 9)) (5.2.1)\n",
      "Requirement already satisfied: soupsieve>1.2 in c:\\users\\asus\\anaconda3\\new folder\\lib\\site-packages (from beautifulsoup4->bs4->-r requirements.txt (line 3)) (2.5)\n",
      "Requirement already satisfied: pycparser in c:\\users\\asus\\anaconda3\\new folder\\lib\\site-packages (from cffi>=1.14->trio~=0.17->selenium->-r requirements.txt (line 1)) (2.21)\n",
      "Requirement already satisfied: parso<0.9.0,>=0.8.0 in c:\\users\\asus\\anaconda3\\new folder\\lib\\site-packages (from jedi>=0.16->ipython>=5.3.0->pyvis->-r requirements.txt (line 11)) (0.8.3)\n",
      "Collecting marisa-trie>=0.7.7 (from language-data>=1.2->langcodes<4.0.0,>=3.2.0->spacy->-r requirements.txt (line 9))\n",
      "  Using cached marisa_trie-1.2.1-cp312-cp312-win_amd64.whl.metadata (9.3 kB)\n",
      "Requirement already satisfied: wcwidth in c:\\users\\asus\\anaconda3\\new folder\\lib\\site-packages (from prompt-toolkit<3.1.0,>=3.0.41->ipython>=5.3.0->pyvis->-r requirements.txt (line 11)) (0.2.5)\n",
      "Requirement already satisfied: markdown-it-py<3.0.0,>=2.2.0 in c:\\users\\asus\\anaconda3\\new folder\\lib\\site-packages (from rich>=10.11.0->typer<1.0.0,>=0.3.0->spacy->-r requirements.txt (line 9)) (2.2.0)\n",
      "Requirement already satisfied: h11<1,>=0.9.0 in c:\\users\\asus\\anaconda3\\new folder\\lib\\site-packages (from wsproto>=0.14->trio-websocket~=0.9->selenium->-r requirements.txt (line 1)) (0.14.0)\n",
      "Requirement already satisfied: executing in c:\\users\\asus\\anaconda3\\new folder\\lib\\site-packages (from stack-data->ipython>=5.3.0->pyvis->-r requirements.txt (line 11)) (0.8.3)\n",
      "Requirement already satisfied: asttokens in c:\\users\\asus\\anaconda3\\new folder\\lib\\site-packages (from stack-data->ipython>=5.3.0->pyvis->-r requirements.txt (line 11)) (2.0.5)\n",
      "Requirement already satisfied: pure-eval in c:\\users\\asus\\anaconda3\\new folder\\lib\\site-packages (from stack-data->ipython>=5.3.0->pyvis->-r requirements.txt (line 11)) (0.2.2)\n",
      "Requirement already satisfied: mdurl~=0.1 in c:\\users\\asus\\anaconda3\\new folder\\lib\\site-packages (from markdown-it-py<3.0.0,>=2.2.0->rich>=10.11.0->typer<1.0.0,>=0.3.0->spacy->-r requirements.txt (line 9)) (0.1.0)\n",
      "Using cached spacy-3.8.2-cp312-cp312-win_amd64.whl (11.8 MB)\n",
      "Using cached pyvis-0.3.2-py3-none-any.whl (756 kB)\n",
      "Using cached python_igraph-0.11.8-py3-none-any.whl (9.1 kB)\n",
      "Using cached igraph-0.11.8-cp39-abi3-win_amd64.whl (2.0 MB)\n",
      "Using cached leidenalg-0.10.2-cp38-abi3-win_amd64.whl (1.6 MB)\n",
      "Using cached catalogue-2.0.10-py3-none-any.whl (17 kB)\n",
      "Using cached contourpy-1.3.0-cp312-cp312-win_amd64.whl (218 kB)\n",
      "Using cached thinc-8.3.2-cp312-cp312-win_amd64.whl (1.5 MB)\n",
      "Using cached numpy-2.0.2-cp312-cp312-win_amd64.whl (15.6 MB)\n",
      "Using cached cymem-2.0.8-cp312-cp312-win_amd64.whl (39 kB)\n",
      "Downloading jsonpickle-3.4.2-py3-none-any.whl (46 kB)\n",
      "   ---------------------------------------- 0.0/46.3 kB ? eta -:--:--\n",
      "   -------- ------------------------------- 10.2/46.3 kB ? eta -:--:--\n",
      "   -------------------------- ------------- 30.7/46.3 kB 640.0 kB/s eta 0:00:01\n",
      "   -------------------------- ------------- 30.7/46.3 kB 640.0 kB/s eta 0:00:01\n",
      "   ---------------------------------------- 46.3/46.3 kB 255.4 kB/s eta 0:00:00\n",
      "Using cached langcodes-3.4.1-py3-none-any.whl (182 kB)\n",
      "Using cached murmurhash-1.0.10-cp312-cp312-win_amd64.whl (25 kB)\n",
      "Using cached preshed-3.0.9-cp312-cp312-win_amd64.whl (122 kB)\n",
      "Using cached spacy_legacy-3.0.12-py2.py3-none-any.whl (29 kB)\n",
      "Using cached spacy_loggers-1.0.5-py3-none-any.whl (22 kB)\n",
      "Using cached srsly-2.4.8-cp312-cp312-win_amd64.whl (478 kB)\n",
      "Using cached typer-0.12.5-py3-none-any.whl (47 kB)\n",
      "Using cached wasabi-1.1.3-py3-none-any.whl (27 kB)\n",
      "Using cached weasel-0.4.1-py3-none-any.whl (50 kB)\n",
      "Using cached blis-1.0.1-cp312-cp312-win_amd64.whl (6.4 MB)\n",
      "Using cached cloudpathlib-0.20.0-py3-none-any.whl (52 kB)\n",
      "Using cached confection-0.1.5-py3-none-any.whl (35 kB)\n",
      "Using cached language_data-1.2.0-py3-none-any.whl (5.4 MB)\n",
      "Using cached shellingham-1.5.4-py2.py3-none-any.whl (9.8 kB)\n",
      "Using cached texttable-1.7.0-py2.py3-none-any.whl (10 kB)\n",
      "Using cached marisa_trie-1.2.1-cp312-cp312-win_amd64.whl (150 kB)\n",
      "Installing collected packages: texttable, cymem, wasabi, spacy-loggers, spacy-legacy, shellingham, numpy, murmurhash, marisa-trie, jsonpickle, igraph, cloudpathlib, catalogue, srsly, python-igraph, preshed, leidenalg, language-data, contourpy, blis, typer, langcodes, confection, weasel, thinc, pyvis, spacy\n",
      "  Attempting uninstall: numpy\n",
      "    Found existing installation: numpy 1.26.4\n",
      "    Uninstalling numpy-1.26.4:\n",
      "      Successfully uninstalled numpy-1.26.4\n",
      "  Attempting uninstall: contourpy\n",
      "    Found existing installation: contourpy 1.2.0\n",
      "    Uninstalling contourpy-1.2.0:\n",
      "      Successfully uninstalled contourpy-1.2.0\n",
      "Successfully installed blis-1.0.1 catalogue-2.0.10 cloudpathlib-0.20.0 confection-0.1.5 contourpy-1.3.0 cymem-2.0.8 igraph-0.11.8 jsonpickle-3.4.2 langcodes-3.4.1 language-data-1.2.0 leidenalg-0.10.2 marisa-trie-1.2.1 murmurhash-1.0.10 numpy-2.0.2 preshed-3.0.9 python-igraph-0.11.8 pyvis-0.3.2 shellingham-1.5.4 spacy-3.8.2 spacy-legacy-3.0.12 spacy-loggers-1.0.5 srsly-2.4.8 texttable-1.7.0 thinc-8.3.2 typer-0.12.5 wasabi-1.1.3 weasel-0.4.1\n"
     ]
    },
    {
     "name": "stderr",
     "output_type": "stream",
     "text": [
      "  WARNING: Failed to remove contents in a temporary directory 'C:\\Users\\Asus\\anaconda3\\New folder\\Lib\\site-packages\\~umpy'.\n",
      "  You can safely remove it manually.\n",
      "ERROR: pip's dependency resolver does not currently take into account all the packages that are installed. This behaviour is the source of the following dependency conflicts.\n",
      "numba 0.59.1 requires numpy<1.27,>=1.22, but you have numpy 2.0.2 which is incompatible.\n",
      "pywavelets 1.5.0 requires numpy<2.0,>=1.22.4, but you have numpy 2.0.2 which is incompatible.\n",
      "streamlit 1.32.0 requires numpy<2,>=1.19.3, but you have numpy 2.0.2 which is incompatible.\n"
     ]
    }
   ],
   "source": [
    "!pip install -r requirements.txt"
   ]
  },
  {
   "cell_type": "markdown",
   "id": "adcdf3d2-4c18-44c5-a481-241737dcd7d8",
   "metadata": {},
   "source": [
    "# Step 2: Import Libraries"
   ]
  },
  {
   "cell_type": "code",
   "execution_count": 2,
   "id": "8fb55fc8-c3ba-4a10-8184-716b81bcbc45",
   "metadata": {},
   "outputs": [],
   "source": [
    "import pandas as pd\n",
    "import numpy as np\n",
    "import matplotlib.pyplot as plt\n",
    "import seaborn as sns\n",
    "import spacy\n",
    "import datetime as dt\n",
    "import os\n",
    "import glob\n",
    "import re"
   ]
  },
  {
   "cell_type": "markdown",
   "id": "a78c8c5e-0db3-4d47-9272-c540721d24ed",
   "metadata": {},
   "source": [
    "# Step 3: Load the Text File"
   ]
  },
  {
   "cell_type": "code",
   "execution_count": 3,
   "id": "250caf4b-1ba5-42fa-af40-7ae0bb057953",
   "metadata": {},
   "outputs": [],
   "source": [
    "# Load the text file\n",
    "with open('key_events_20th_century.txt', 'r') as file:\n",
    "    text = file.read()"
   ]
  },
  {
   "cell_type": "markdown",
   "id": "144d46e2-c1c6-46ab-96a9-80853729bd96",
   "metadata": {},
   "source": [
    "# Step 4: Evaluate and Clean the Text"
   ]
  },
  {
   "cell_type": "code",
   "execution_count": 4,
   "id": "0d82d7ed-d089-43c7-9673-d551abc5ac70",
   "metadata": {},
   "outputs": [
    {
     "name": "stdout",
     "output_type": "stream",
     "text": [
      "Jump to content\n",
      "Main menu\n",
      "Search\n",
      "Donate\n",
      "Appearance\n",
      "Create account\n",
      "Log in\n",
      "Personal tools\n",
      "Key Events of the 20th Century\n",
      "Add languages\n",
      "Article\n",
      "Talk\n",
      "Tools\n",
      "From Wikipedia, the free encyclopedia\n",
      "Look for Key Events of the 20th Century on one of Wikipedia's sister projects:\n",
      "Wiktionary (dictionary)\n",
      "Wikibooks (textbooks)\n",
      "Wikiquote (quotations)\n",
      "Wikisource (library)\n",
      "Wikiversity (learning resources)\n",
      "Commons (media)\n",
      "Wikivoyage (travel guide)\n",
      "Wikinews (news source)\n",
      "Wikidata (linked database)\n",
      "Wikispecies (species directory)\n",
      "Wikipedia does not have an article with this exact name. Please search for Key Events of the 20th Century in Wikipedia to check for alternative titles or spellings.\n",
      "You need to log in or create an account and be autoconfirmed to create new articles. Alternatively, you can use the article wizard to submit a draft for review, or request a new article.\n",
      "Search for \"Key Events of the 20th Century\" in existing articles.\n",
      "Look for pages within Wikipedia that link to this title.\n",
      "Other rea\n"
     ]
    }
   ],
   "source": [
    "# Display the first 1000 characters for a quick check\n",
    "print(text[:1000])"
   ]
  },
  {
   "cell_type": "markdown",
   "id": "f4a9b1ce-1e73-456d-af96-507d23b1cf6e",
   "metadata": {},
   "source": [
    "# Text Cleaning Example:"
   ]
  },
  {
   "cell_type": "code",
   "execution_count": 5,
   "id": "b6606bff-715f-4f34-8350-8a7fb45a601b",
   "metadata": {},
   "outputs": [],
   "source": [
    "# Replace unusual characters\n",
    "text = text.replace(\"—\", \"-\").replace(\"‘\", \"'\").replace(\"’\", \"'\")"
   ]
  },
  {
   "cell_type": "markdown",
   "id": "fb2187f1-2493-449d-96cf-8de540db446f",
   "metadata": {},
   "source": [
    "# Save the cleaned text to a new file"
   ]
  },
  {
   "cell_type": "code",
   "execution_count": 6,
   "id": "9e84933f-0fa0-4ad4-8957-163692088713",
   "metadata": {},
   "outputs": [],
   "source": [
    "# Save the cleaned text to a new file\n",
    "with open('twentieth-century-cleaned.txt', 'w') as file:\n",
    "    file.write(text)"
   ]
  },
  {
   "cell_type": "markdown",
   "id": "14f10cf1-0937-469f-93db-c605a971f7d8",
   "metadata": {},
   "source": [
    "# Step 5: Create a Named Entity Recognition (NER) Object"
   ]
  },
  {
   "cell_type": "code",
   "execution_count": 10,
   "id": "493de464-a112-456c-aa9e-6398b51415eb",
   "metadata": {},
   "outputs": [],
   "source": [
    "# Load SpaCy's English NER model\n",
    "nlp = spacy.load(\"en_core_web_sm\")"
   ]
  },
  {
   "cell_type": "code",
   "execution_count": 11,
   "id": "69d591c6-f5a7-4d52-882e-647a8d47bff8",
   "metadata": {},
   "outputs": [],
   "source": [
    "# Create the NER object\n",
    "doc = nlp(text)"
   ]
  },
  {
   "cell_type": "markdown",
   "id": "015cbb40-2be0-4ecf-b577-45b7d65935e2",
   "metadata": {},
   "source": [
    "# Step 6: Extract Sentences and Entities"
   ]
  },
  {
   "cell_type": "code",
   "execution_count": 12,
   "id": "9190e42d-e5f5-44fd-9836-46a06e99929c",
   "metadata": {},
   "outputs": [
    {
     "name": "stdout",
     "output_type": "stream",
     "text": [
      "[(\"Jump to content\\nMain menu\\nSearch\\nDonate\\nAppearance\\nCreate account\\nLog in\\nPersonal tools\\nKey Events of the 20th Century\\nAdd languages\\nArticle\\nTalk\\nTools\\nFrom Wikipedia, the free encyclopedia\\nLook for Key Events of the 20th Century on one of Wikipedia's sister projects:\\n\", [('the 20th Century\\nAdd', 'DATE'), ('Wikipedia', 'ORG'), ('Look for Key Events of', 'WORK_OF_ART'), ('the 20th Century', 'DATE'), ('one', 'CARDINAL'), ('Wikipedia', 'ORG')]), ('Wiktionary (dictionary)\\nWikibooks (textbooks)\\nWikiquote (quotations)\\nWikisource (library)\\nWikiversity (learning resources)\\nCommons (media)\\nWikivoyage (travel guide)\\nWikinews (news source)\\nWikidata (linked database)\\nWikispecies (species directory)\\nWikipedia does not have an article with this exact name.', [('Wikivoyage', 'PERSON'), ('Wikipedia', 'ORG')]), ('Please search for Key Events of the 20th Century in Wikipedia to check for alternative titles or spellings.\\n', [('Key Events', 'ORG'), ('the 20th Century', 'DATE'), ('Wikipedia', 'GPE')]), ('You need to log in or create an account and be autoconfirmed to create new articles.', []), ('Alternatively, you can use the article wizard to submit a draft for review, or request a new article.\\n', [])]\n"
     ]
    }
   ],
   "source": [
    "# List to store sentences and entities\n",
    "sentences_entities = []\n",
    "\n",
    "# Iterate through sentences in the NER document\n",
    "for sentence in doc.sents:\n",
    "    # Extract entities in each sentence\n",
    "    entities = [(ent.text, ent.label_) for ent in sentence.ents]\n",
    "    sentences_entities.append((sentence.text, entities))\n",
    "\n",
    "# Display the first few sentences with their entities\n",
    "print(sentences_entities[:5])"
   ]
  },
  {
   "cell_type": "markdown",
   "id": "b9830ba7-ee5d-4f0c-bef0-fca8d3365a80",
   "metadata": {},
   "source": [
    "# Step 7: Entity Extraction and Filtering"
   ]
  },
  {
   "cell_type": "code",
   "execution_count": 15,
   "id": "2ad7f4ec-7148-4b79-b15c-a23bbeea7215",
   "metadata": {},
   "outputs": [
    {
     "name": "stdout",
     "output_type": "stream",
     "text": [
      "[]\n"
     ]
    }
   ],
   "source": [
    "# Define a list of countries\n",
    "countries_list = ['United States', 'Canada', 'UK', 'France', 'Germany', 'India', 'China', 'Japan', 'Russia', 'Italy']\n",
    "\n",
    "# Normalize country names (e.g., \"USA\" -> \"United States\")\n",
    "country_name_map = {\n",
    "    'USA': 'United States',\n",
    "    'U.S.A.': 'United States',\n",
    "    'UK': 'United Kingdom',\n",
    "    'Republic of Korea': 'South Korea',\n",
    "    # Add more mappings as necessary\n",
    "}\n",
    "\n",
    "# Filter the sentences_entities to include only sentences with countries from the list\n",
    "filtered_sentences = []\n",
    "\n",
    "for sentence, entities in sentences_entities:\n",
    "    filtered_entities = [ent for ent, label in entities if ent in countries_list or ent in country_name_map.keys()]\n",
    "    # Replace any mapped country names with their normalized version\n",
    "    normalized_entities = [country_name_map.get(ent, ent) for ent in filtered_entities]\n",
    "    \n",
    "    if normalized_entities:  # If any entity matches the countries list, include it\n",
    "        filtered_sentences.append((sentence, normalized_entities))\n",
    "\n",
    "# Display the first few filtered sentences with entities\n",
    "print(filtered_sentences[:5])"
   ]
  },
  {
   "cell_type": "markdown",
   "id": "87e348b6-53e0-4231-b1ce-ab4353f41312",
   "metadata": {},
   "source": [
    "# 8. Create the Relationships DataFrame"
   ]
  },
  {
   "cell_type": "code",
   "execution_count": 16,
   "id": "aa9dff8a-bb3e-40af-9cde-ee9165839469",
   "metadata": {},
   "outputs": [
    {
     "name": "stdout",
     "output_type": "stream",
     "text": [
      "Empty DataFrame\n",
      "Columns: []\n",
      "Index: []\n"
     ]
    }
   ],
   "source": [
    "relationships = []\n",
    "\n",
    "for sentence, entities in filtered_sentences:\n",
    "    if len(entities) > 1:  # Only create relationships if there are at least 2 entities\n",
    "        for i in range(len(entities) - 1):\n",
    "            relationships.append({'Entity1': entities[i], 'Entity2': entities[i + 1], 'Sentence': sentence})\n",
    "\n",
    "# Create a DataFrame from the relationships list\n",
    "relationships_df = pd.DataFrame(relationships)\n",
    "\n",
    "# Display the first few rows of the relationships DataFrame\n",
    "print(relationships_df.head())"
   ]
  },
  {
   "cell_type": "markdown",
   "id": "eec8a2ad-abaa-45e0-8682-7314c72fd421",
   "metadata": {},
   "source": [
    "# 9. Save and Export Your DataFrame"
   ]
  },
  {
   "cell_type": "code",
   "execution_count": 17,
   "id": "d9f35391-6bd3-4c87-a085-e217c28cc968",
   "metadata": {},
   "outputs": [
    {
     "name": "stdout",
     "output_type": "stream",
     "text": [
      "Relationships DataFrame saved to 'relationships.csv'\n",
      "Filtered sentences DataFrame saved to 'filtered_sentences.csv'\n"
     ]
    }
   ],
   "source": [
    "# Save the relationships DataFrame to a CSV file\n",
    "relationships_df.to_csv('relationships.csv', index=False)\n",
    "print(\"Relationships DataFrame saved to 'relationships.csv'\")\n",
    "\n",
    "# Optionally, save the filtered sentences with entities to a CSV file\n",
    "filtered_sentences_df = pd.DataFrame(filtered_sentences, columns=['Sentence', 'Entities'])\n",
    "filtered_sentences_df.to_csv('filtered_sentences.csv', index=False)\n",
    "print(\"Filtered sentences DataFrame saved to 'filtered_sentences.csv'\")"
   ]
  },
  {
   "cell_type": "code",
   "execution_count": null,
   "id": "5d0572e8-2d9b-4bc5-9569-2b1ac2a3ff44",
   "metadata": {},
   "outputs": [],
   "source": []
  }
 ],
 "metadata": {
  "kernelspec": {
   "display_name": "20th Century Environment",
   "language": "python",
   "name": "20th_century"
  },
  "language_info": {
   "codemirror_mode": {
    "name": "ipython",
    "version": 3
   },
   "file_extension": ".py",
   "mimetype": "text/x-python",
   "name": "python",
   "nbconvert_exporter": "python",
   "pygments_lexer": "ipython3",
   "version": "3.12.7"
  }
 },
 "nbformat": 4,
 "nbformat_minor": 5
}
