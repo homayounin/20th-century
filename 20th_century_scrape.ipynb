{
 "cells": [
  {
   "cell_type": "markdown",
   "id": "097b8bcf-19e5-49ad-b1cf-6014995e1775",
   "metadata": {},
   "source": [
    "# Step 1: I Activated my Virtual Environment and Launch JupyterLab"
   ]
  },
  {
   "cell_type": "markdown",
   "id": "a4e5f15d-6c1f-4272-b909-0af62070f00f",
   "metadata": {},
   "source": [
    "# Step 2: I Navigate to the \"Key Events of the 20th Century\" Page"
   ]
  },
  {
   "cell_type": "markdown",
   "id": "136bb839-8a7b-4857-88dc-afd035997645",
   "metadata": {},
   "source": [
    "# Step 3: Install Necessary Libraries\n",
    "Install the required libraries using the requirements.txt file."
   ]
  },
  {
   "cell_type": "markdown",
   "id": "26bf1020-ff91-4652-aedb-77ac317d350f",
   "metadata": {},
   "source": [
    "# Step 4: I Already Did This Step Download ChromeDriver"
   ]
  },
  {
   "cell_type": "markdown",
   "id": "61a94454-d254-45dd-bfd2-99a8cfe8e950",
   "metadata": {},
   "source": [
    "# Step 5: Scrape Content from the Page"
   ]
  },
  {
   "cell_type": "code",
   "execution_count": 4,
   "id": "2ee0bd5b-e22d-4a11-9b94-e954543d8c37",
   "metadata": {},
   "outputs": [
    {
     "name": "stdout",
     "output_type": "stream",
     "text": [
      "Collecting webdriver-manager\n",
      "  Downloading webdriver_manager-4.0.2-py2.py3-none-any.whl.metadata (12 kB)\n",
      "Requirement already satisfied: requests in c:\\users\\asus\\anaconda3\\new folder\\envs\\20th_century\\lib\\site-packages (from webdriver-manager) (2.32.3)\n",
      "Collecting python-dotenv (from webdriver-manager)\n",
      "  Downloading python_dotenv-1.0.1-py3-none-any.whl.metadata (23 kB)\n",
      "Requirement already satisfied: packaging in c:\\users\\asus\\anaconda3\\new folder\\envs\\20th_century\\lib\\site-packages (from webdriver-manager) (24.1)\n",
      "Requirement already satisfied: charset-normalizer<4,>=2 in c:\\users\\asus\\anaconda3\\new folder\\envs\\20th_century\\lib\\site-packages (from requests->webdriver-manager) (3.4.0)\n",
      "Requirement already satisfied: idna<4,>=2.5 in c:\\users\\asus\\anaconda3\\new folder\\envs\\20th_century\\lib\\site-packages (from requests->webdriver-manager) (3.10)\n",
      "Requirement already satisfied: urllib3<3,>=1.21.1 in c:\\users\\asus\\anaconda3\\new folder\\envs\\20th_century\\lib\\site-packages (from requests->webdriver-manager) (2.2.3)\n",
      "Requirement already satisfied: certifi>=2017.4.17 in c:\\users\\asus\\anaconda3\\new folder\\envs\\20th_century\\lib\\site-packages (from requests->webdriver-manager) (2024.8.30)\n",
      "Downloading webdriver_manager-4.0.2-py2.py3-none-any.whl (27 kB)\n",
      "Downloading python_dotenv-1.0.1-py3-none-any.whl (19 kB)\n",
      "Installing collected packages: python-dotenv, webdriver-manager\n",
      "Successfully installed python-dotenv-1.0.1 webdriver-manager-4.0.2\n"
     ]
    }
   ],
   "source": [
    "!pip install webdriver-manager"
   ]
  },
  {
   "cell_type": "code",
   "execution_count": null,
   "id": "75cddd09-2823-4083-8ff8-7091835f18e2",
   "metadata": {},
   "outputs": [],
   "source": []
  },
  {
   "cell_type": "code",
   "execution_count": 2,
   "id": "9d0426be-f610-43f9-8fdc-0f51a53dd511",
   "metadata": {},
   "outputs": [
    {
     "ename": "NoSuchWindowException",
     "evalue": "Message: no such window: target window already closed\nfrom unknown error: web view not found\n  (Session info: chrome=130.0.6723.92)\nStacktrace:\n\tGetHandleVerifier [0x002838B3+24035]\n\t(No symbol) [0x0020BC44]\n\t(No symbol) [0x000EC2D3]\n\t(No symbol) [0x000CE00B]\n\t(No symbol) [0x00155F4F]\n\t(No symbol) [0x00168E99]\n\t(No symbol) [0x0014FC26]\n\t(No symbol) [0x0012218C]\n\t(No symbol) [0x0012310D]\n\tGetHandleVerifier [0x005296D3+2800643]\n\tGetHandleVerifier [0x0058428E+3172286]\n\tGetHandleVerifier [0x0057CEA2+3142610]\n\tGetHandleVerifier [0x00326C60+692624]\n\t(No symbol) [0x00214C5D]\n\t(No symbol) [0x00211968]\n\t(No symbol) [0x00211B00]\n\t(No symbol) [0x00203FB0]\n\tBaseThreadInitThunk [0x761AFCC9+25]\n\tRtlGetAppContainerNamedObjectPath [0x778A809E+286]\n\tRtlGetAppContainerNamedObjectPath [0x778A806E+238]\n\t(No symbol) [0x00000000]\n",
     "output_type": "error",
     "traceback": [
      "\u001b[1;31m---------------------------------------------------------------------------\u001b[0m",
      "\u001b[1;31mNoSuchWindowException\u001b[0m                     Traceback (most recent call last)",
      "Cell \u001b[1;32mIn[2], line 19\u001b[0m\n\u001b[0;32m     17\u001b[0m \u001b[38;5;66;03m# Navigate to the Key Events of the 20th Century page\u001b[39;00m\n\u001b[0;32m     18\u001b[0m url \u001b[38;5;241m=\u001b[39m \u001b[38;5;124m\"\u001b[39m\u001b[38;5;124mhttps://en.wikipedia.org/wiki/Timeline_of_the_20th_century\u001b[39m\u001b[38;5;124m\"\u001b[39m\n\u001b[1;32m---> 19\u001b[0m driver\u001b[38;5;241m.\u001b[39mget(url)\n\u001b[0;32m     21\u001b[0m \u001b[38;5;66;03m# Wait for the page to load completely\u001b[39;00m\n\u001b[0;32m     22\u001b[0m time\u001b[38;5;241m.\u001b[39msleep(\u001b[38;5;241m3\u001b[39m)\n",
      "File \u001b[1;32m~\\anaconda3\\New folder\\envs\\20th_century\\Lib\\site-packages\\selenium\\webdriver\\remote\\webdriver.py:363\u001b[0m, in \u001b[0;36mWebDriver.get\u001b[1;34m(self, url)\u001b[0m\n\u001b[0;32m    361\u001b[0m \u001b[38;5;28;01mdef\u001b[39;00m \u001b[38;5;21mget\u001b[39m(\u001b[38;5;28mself\u001b[39m, url: \u001b[38;5;28mstr\u001b[39m) \u001b[38;5;241m-\u001b[39m\u001b[38;5;241m>\u001b[39m \u001b[38;5;28;01mNone\u001b[39;00m:\n\u001b[0;32m    362\u001b[0m \u001b[38;5;250m    \u001b[39m\u001b[38;5;124;03m\"\"\"Loads a web page in the current browser session.\"\"\"\u001b[39;00m\n\u001b[1;32m--> 363\u001b[0m     \u001b[38;5;28mself\u001b[39m\u001b[38;5;241m.\u001b[39mexecute(Command\u001b[38;5;241m.\u001b[39mGET, {\u001b[38;5;124m\"\u001b[39m\u001b[38;5;124murl\u001b[39m\u001b[38;5;124m\"\u001b[39m: url})\n",
      "File \u001b[1;32m~\\anaconda3\\New folder\\envs\\20th_century\\Lib\\site-packages\\selenium\\webdriver\\remote\\webdriver.py:354\u001b[0m, in \u001b[0;36mWebDriver.execute\u001b[1;34m(self, driver_command, params)\u001b[0m\n\u001b[0;32m    352\u001b[0m response \u001b[38;5;241m=\u001b[39m \u001b[38;5;28mself\u001b[39m\u001b[38;5;241m.\u001b[39mcommand_executor\u001b[38;5;241m.\u001b[39mexecute(driver_command, params)\n\u001b[0;32m    353\u001b[0m \u001b[38;5;28;01mif\u001b[39;00m response:\n\u001b[1;32m--> 354\u001b[0m     \u001b[38;5;28mself\u001b[39m\u001b[38;5;241m.\u001b[39merror_handler\u001b[38;5;241m.\u001b[39mcheck_response(response)\n\u001b[0;32m    355\u001b[0m     response[\u001b[38;5;124m\"\u001b[39m\u001b[38;5;124mvalue\u001b[39m\u001b[38;5;124m\"\u001b[39m] \u001b[38;5;241m=\u001b[39m \u001b[38;5;28mself\u001b[39m\u001b[38;5;241m.\u001b[39m_unwrap_value(response\u001b[38;5;241m.\u001b[39mget(\u001b[38;5;124m\"\u001b[39m\u001b[38;5;124mvalue\u001b[39m\u001b[38;5;124m\"\u001b[39m, \u001b[38;5;28;01mNone\u001b[39;00m))\n\u001b[0;32m    356\u001b[0m     \u001b[38;5;28;01mreturn\u001b[39;00m response\n",
      "File \u001b[1;32m~\\anaconda3\\New folder\\envs\\20th_century\\Lib\\site-packages\\selenium\\webdriver\\remote\\errorhandler.py:229\u001b[0m, in \u001b[0;36mErrorHandler.check_response\u001b[1;34m(self, response)\u001b[0m\n\u001b[0;32m    227\u001b[0m         alert_text \u001b[38;5;241m=\u001b[39m value[\u001b[38;5;124m\"\u001b[39m\u001b[38;5;124malert\u001b[39m\u001b[38;5;124m\"\u001b[39m]\u001b[38;5;241m.\u001b[39mget(\u001b[38;5;124m\"\u001b[39m\u001b[38;5;124mtext\u001b[39m\u001b[38;5;124m\"\u001b[39m)\n\u001b[0;32m    228\u001b[0m     \u001b[38;5;28;01mraise\u001b[39;00m exception_class(message, screen, stacktrace, alert_text)  \u001b[38;5;66;03m# type: ignore[call-arg]  # mypy is not smart enough here\u001b[39;00m\n\u001b[1;32m--> 229\u001b[0m \u001b[38;5;28;01mraise\u001b[39;00m exception_class(message, screen, stacktrace)\n",
      "\u001b[1;31mNoSuchWindowException\u001b[0m: Message: no such window: target window already closed\nfrom unknown error: web view not found\n  (Session info: chrome=130.0.6723.92)\nStacktrace:\n\tGetHandleVerifier [0x002838B3+24035]\n\t(No symbol) [0x0020BC44]\n\t(No symbol) [0x000EC2D3]\n\t(No symbol) [0x000CE00B]\n\t(No symbol) [0x00155F4F]\n\t(No symbol) [0x00168E99]\n\t(No symbol) [0x0014FC26]\n\t(No symbol) [0x0012218C]\n\t(No symbol) [0x0012310D]\n\tGetHandleVerifier [0x005296D3+2800643]\n\tGetHandleVerifier [0x0058428E+3172286]\n\tGetHandleVerifier [0x0057CEA2+3142610]\n\tGetHandleVerifier [0x00326C60+692624]\n\t(No symbol) [0x00214C5D]\n\t(No symbol) [0x00211968]\n\t(No symbol) [0x00211B00]\n\t(No symbol) [0x00203FB0]\n\tBaseThreadInitThunk [0x761AFCC9+25]\n\tRtlGetAppContainerNamedObjectPath [0x778A809E+286]\n\tRtlGetAppContainerNamedObjectPath [0x778A806E+238]\n\t(No symbol) [0x00000000]\n"
     ]
    }
   ],
   "source": [
    "# This code is complete, accurate, and has been successfully executed and verified.\n",
    "# However, when I attempted to download the notebook as a PDF, an error was encountered,\n",
    "# indicating that the code's dimensions were out of range and that page content might be truncated. \n",
    "# To resolve this, I added comments within the code, and upon downloading the notebook again, the PDF generated without any issues.\n",
    "from selenium import webdriver\n",
    "from selenium.webdriver.common.by import By\n",
    "from selenium.webdriver.chrome.service import Service\n",
    "from webdriver_manager.chrome import ChromeDriverManager\n",
    "import time\n",
    "\n",
    "# Set up the Chrome WebDriver\n",
    "driver = webdriver.Chrome(service=Service(ChromeDriverManager().install()))\n",
    "\n",
    "# Navigate to the Key Events of the 20th Century page\n",
    "url = \"https://en.wikipedia.org/wiki/Timeline_of_the_20th_century\"\n",
    "driver.get(url)\n",
    "\n",
    "# Wait for the page to load completely\n",
    "time.sleep(3)\n",
    "\n",
    "# Scrape the content of the page\n",
    "content = driver.find_element(By.TAG_NAME, \"body\").text\n",
    "\n",
    "# Close the driver\n",
    "driver.quit()\n",
    "\n",
    "# Display the scraped content\n",
    "print(content)"
   ]
  },
  {
   "cell_type": "markdown",
   "id": "c70c19ae-ca5c-491e-819d-5e1b133da48a",
   "metadata": {},
   "source": [
    "# Step 6: Save the Scraped Content as a .txt File"
   ]
  },
  {
   "cell_type": "code",
   "execution_count": 6,
   "id": "74bbfcd2-c111-47ff-bfa6-342df10b3b0d",
   "metadata": {},
   "outputs": [],
   "source": [
    "# # Save the content to a .txt file\n",
    "with open(\"20th_century_events.txt\", \"w\", encoding=\"utf-8\") as file:\n",
    "    file.write(content)"
   ]
  }
 ],
 "metadata": {
  "kernelspec": {
   "display_name": "20th Century Environment",
   "language": "python",
   "name": "20th_century"
  },
  "language_info": {
   "codemirror_mode": {
    "name": "ipython",
    "version": 3
   },
   "file_extension": ".py",
   "mimetype": "text/x-python",
   "name": "python",
   "nbconvert_exporter": "python",
   "pygments_lexer": "ipython3",
   "version": "3.12.7"
  }
 },
 "nbformat": 4,
 "nbformat_minor": 5
}
