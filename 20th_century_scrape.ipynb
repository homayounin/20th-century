{
 "cells": [
  {
   "cell_type": "markdown",
   "id": "f9c6ec42-810a-4f78-b40e-9e2fcc3eaab4",
   "metadata": {},
   "source": [
    "# Step 5: Scrape the Content"
   ]
  },
  {
   "cell_type": "code",
   "execution_count": 1,
   "id": "5e94b2cc-26ef-4a2d-90a1-9b4f255d9781",
   "metadata": {},
   "outputs": [],
   "source": [
    "from selenium import webdriver\n",
    "from selenium.webdriver.common.by import By\n",
    "import time"
   ]
  },
  {
   "cell_type": "markdown",
   "id": "1b22e88e-f689-4883-ad99-b3b45d23bf92",
   "metadata": {},
   "source": [
    "# Set Up the ChromeDrive"
   ]
  },
  {
   "cell_type": "code",
   "execution_count": 4,
   "id": "ba3c7df2-a0c4-4172-8a23-62e855065fac",
   "metadata": {},
   "outputs": [],
   "source": [
    "# Import necessary libraries\n",
    "from selenium import webdriver\n",
    "from selenium.webdriver.chrome.service import Service\n",
    "from selenium.webdriver.common.by import By\n",
    "import time\n",
    "\n",
    "# Path to your downloaded ChromeDriver\n",
    "chrome_driver_path = r'C:\\Users\\Asus\\Music\\chap2\\20th-century\\chromedriver-win64\\chromedriver.exe'\n",
    "\n",
    "# Create a Service object\n",
    "service = Service(chrome_driver_path)\n",
    "\n",
    "# Set up the ChromeDriver using the Service object\n",
    "driver = webdriver.Chrome(service=service)\n",
    "\n",
    "# Open the Key Events of the 20th Century page\n",
    "driver.get(\"https://en.wikipedia.org/wiki/Key_Events_of_the_20th_Century\")\n",
    "time.sleep(3)  # Allow time for the page to load\n",
    "\n",
    "# Scrape the content (update this as needed based on your project)\n",
    "content = driver.find_element(By.TAG_NAME, 'body').text\n",
    "\n",
    "# Save the scraped content to a text file\n",
    "with open('key_events_20th_century.txt', 'w', encoding='utf-8') as file:\n",
    "    file.write(content)\n",
    "\n",
    "# Close the driver\n",
    "driver.quit()  # Ensure to close the browser when done"
   ]
  },
  {
   "cell_type": "markdown",
   "id": "0194f11b-1b19-4845-b22a-00cb196a1dad",
   "metadata": {},
   "source": [
    "# Navigate to the Target Page"
   ]
  },
  {
   "cell_type": "code",
   "execution_count": null,
   "id": "0bb4d845-b365-4085-94c8-19a567cbc52a",
   "metadata": {},
   "outputs": [],
   "source": []
  }
 ],
 "metadata": {
  "kernelspec": {
   "display_name": "20th Century Environment",
   "language": "python",
   "name": "20th_century"
  },
  "language_info": {
   "codemirror_mode": {
    "name": "ipython",
    "version": 3
   },
   "file_extension": ".py",
   "mimetype": "text/x-python",
   "name": "python",
   "nbconvert_exporter": "python",
   "pygments_lexer": "ipython3",
   "version": "3.12.7"
  }
 },
 "nbformat": 4,
 "nbformat_minor": 5
}
